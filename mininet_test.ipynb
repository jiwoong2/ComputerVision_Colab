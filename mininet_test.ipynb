{
  "nbformat": 4,
  "nbformat_minor": 0,
  "metadata": {
    "colab": {
      "private_outputs": true,
      "provenance": [],
      "authorship_tag": "ABX9TyN4bIP0mczcV8R/KOB2My1/",
      "include_colab_link": true
    },
    "kernelspec": {
      "name": "python3",
      "display_name": "Python 3"
    },
    "language_info": {
      "name": "python"
    }
  },
  "cells": [
    {
      "cell_type": "markdown",
      "metadata": {
        "id": "view-in-github",
        "colab_type": "text"
      },
      "source": [
        "<a href=\"https://colab.research.google.com/github/jiwoong2/ComputerVision_Colab/blob/main/mininet_test.ipynb\" target=\"_parent\"><img src=\"https://colab.research.google.com/assets/colab-badge.svg\" alt=\"Open In Colab\"/></a>"
      ]
    },
    {
      "cell_type": "code",
      "execution_count": null,
      "metadata": {
        "id": "yc9V62zR3May"
      },
      "outputs": [],
      "source": [
        "import torch\n",
        "from torch import nn"
      ]
    },
    {
      "cell_type": "code",
      "source": [
        "x = torch.randn(100,3)\n",
        "layer = torch.nn.Linear(3,5)\n",
        "print(layer(x).shape)\n",
        "print(layer.weight)\n",
        "print(layer.bias)"
      ],
      "metadata": {
        "id": "YDFiw8Cv3ik8"
      },
      "execution_count": null,
      "outputs": []
    },
    {
      "cell_type": "code",
      "source": [
        "x = torch.randn(2,5)\n",
        "layer = torch.nn.ReLU()\n",
        "print(layer(x))"
      ],
      "metadata": {
        "id": "lHNNBn7-4J6R"
      },
      "execution_count": null,
      "outputs": []
    },
    {
      "cell_type": "code",
      "source": [
        "x = torch.randn(3,7)\n",
        "drop = nn.Dropout(p=0.3) # p는 죽일확률\n",
        "print(x)\n",
        "print(drop(x))"
      ],
      "metadata": {
        "id": "wQOdkBsZ4fZl"
      },
      "execution_count": null,
      "outputs": []
    },
    {
      "cell_type": "code",
      "source": [
        "class sample_model(nn.Module):\n",
        "    def __init__(self):\n",
        "        super().__init__()\n",
        "        self.drop_layer = nn.Sequential(nn.Linear(5,7),\n",
        "                                        nn.Dropout(p=0.3))\n",
        "\n",
        "    def forward(self, x):\n",
        "        x = self.drop_layer(x)\n",
        "\n",
        "        return x\n",
        "\n",
        "model = sample_model()\n",
        "model.train()\n",
        "x = torch.randn(3,5)\n",
        "y = torch.randn(2,3,5)\n",
        "print(model(x))\n",
        "\n",
        "model.eval() # 모두살리는 동시에 각 요소에 p를 곱해준다.\n",
        "print(model(x))"
      ],
      "metadata": {
        "id": "_p00wSBV5BA_"
      },
      "execution_count": null,
      "outputs": []
    },
    {
      "cell_type": "code",
      "source": [
        "layer = nn.Conv2d(in_channels=1, out_channels=2, kernel_size=3)\n",
        "layer(torch.randn(32,1,5,5)).shape"
      ],
      "metadata": {
        "id": "KrIhWxO08NhU"
      },
      "execution_count": null,
      "outputs": []
    },
    {
      "cell_type": "code",
      "source": [
        "#42/41"
      ],
      "metadata": {
        "id": "rKqhFZwZ83gw"
      },
      "execution_count": null,
      "outputs": []
    }
  ]
}